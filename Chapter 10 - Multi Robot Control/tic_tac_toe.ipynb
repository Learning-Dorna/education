{
 "cells": [
  {
   "cell_type": "code",
   "execution_count": 1,
   "metadata": {
    "id": "U_9oV3jtE4Kp"
   },
   "outputs": [],
   "source": [
    "###########\n",
    "# Import #\n",
    "###########\n",
    "import random\n",
    "from dorna2 import Dorna"
   ]
  },
  {
   "cell_type": "code",
   "execution_count": 1,
   "metadata": {
    "colab": {
     "base_uri": "https://localhost:8080/",
     "height": 211
    },
    "id": "Kru8X1UKHpmy",
    "outputId": "7ae05c4c-8cef-4ddc-f48d-03b3fc2e95e2"
   },
   "outputs": [
    {
     "ename": "NameError",
     "evalue": "name 'x' is not defined",
     "output_type": "error",
     "traceback": [
      "\u001b[1;31m---------------------------------------------------------------------------\u001b[0m",
      "\u001b[1;31mNameError\u001b[0m                                 Traceback (most recent call last)",
      "Cell \u001b[1;32mIn[1], line 28\u001b[0m\n\u001b[0;32m     15\u001b[0m \u001b[38;5;66;03m# setting the placement positions on the board to corresponding to pin values\u001b[39;00m\n\u001b[0;32m     16\u001b[0m position_to_pins \u001b[38;5;241m=\u001b[39m {\n\u001b[0;32m     17\u001b[0m     (\u001b[38;5;241m0\u001b[39m, \u001b[38;5;241m0\u001b[39m): [\u001b[38;5;241m0\u001b[39m, \u001b[38;5;241m0\u001b[39m, \u001b[38;5;241m0\u001b[39m, \u001b[38;5;241m1\u001b[39m],  \u001b[38;5;66;03m# Top-left\u001b[39;00m\n\u001b[0;32m     18\u001b[0m     (\u001b[38;5;241m0\u001b[39m, \u001b[38;5;241m1\u001b[39m): [\u001b[38;5;241m0\u001b[39m, \u001b[38;5;241m0\u001b[39m, \u001b[38;5;241m1\u001b[39m, \u001b[38;5;241m0\u001b[39m],  \u001b[38;5;66;03m# Top-middle\u001b[39;00m\n\u001b[1;32m   (...)\u001b[0m\n\u001b[0;32m     25\u001b[0m     (\u001b[38;5;241m2\u001b[39m, \u001b[38;5;241m2\u001b[39m): [\u001b[38;5;241m1\u001b[39m, \u001b[38;5;241m0\u001b[39m, \u001b[38;5;241m0\u001b[39m, \u001b[38;5;241m1\u001b[39m]   \u001b[38;5;66;03m# Bottom-right\u001b[39;00m\n\u001b[0;32m     26\u001b[0m }\n\u001b[1;32m---> 28\u001b[0m pick_position \u001b[38;5;241m=\u001b[39m [[\u001b[43mx\u001b[49m, y, z, a, b, c],  \u001b[38;5;66;03m# position to grab first chip\u001b[39;00m\n\u001b[0;32m     29\u001b[0m                   [x, y, z, a, b, c],  \u001b[38;5;66;03m# position to grab second chip\u001b[39;00m\n\u001b[0;32m     30\u001b[0m                   [x, y, z, a, b, c],  \u001b[38;5;66;03m# position to grab third chip\u001b[39;00m\n\u001b[0;32m     31\u001b[0m                   [x, y, z, a, b, c],  \u001b[38;5;66;03m# position to grab fourth chip\u001b[39;00m\n\u001b[0;32m     32\u001b[0m                   [x, y, z, a, b, c]]  \u001b[38;5;66;03m# position to grab fifth chip\u001b[39;00m\n\u001b[0;32m     34\u001b[0m place_point \u001b[38;5;241m=\u001b[39m [[[\u001b[38;5;241m0\u001b[39m, \u001b[38;5;241m0\u001b[39m, \u001b[38;5;241m0\u001b[39m, \u001b[38;5;241m0\u001b[39m, \u001b[38;5;241m0\u001b[39m, \u001b[38;5;241m0\u001b[39m], [\u001b[38;5;241m0\u001b[39m, \u001b[38;5;241m0\u001b[39m, \u001b[38;5;241m0\u001b[39m, \u001b[38;5;241m0\u001b[39m, \u001b[38;5;241m0\u001b[39m, \u001b[38;5;241m0\u001b[39m], [\u001b[38;5;241m0\u001b[39m, \u001b[38;5;241m0\u001b[39m, \u001b[38;5;241m0\u001b[39m, \u001b[38;5;241m0\u001b[39m, \u001b[38;5;241m0\u001b[39m, \u001b[38;5;241m0\u001b[39m]],  \u001b[38;5;66;03m# Top row\u001b[39;00m\n\u001b[0;32m     35\u001b[0m                     [[\u001b[38;5;241m0\u001b[39m, \u001b[38;5;241m0\u001b[39m, \u001b[38;5;241m0\u001b[39m, \u001b[38;5;241m0\u001b[39m, \u001b[38;5;241m0\u001b[39m, \u001b[38;5;241m0\u001b[39m], [\u001b[38;5;241m0\u001b[39m, \u001b[38;5;241m0\u001b[39m, \u001b[38;5;241m0\u001b[39m, \u001b[38;5;241m0\u001b[39m, \u001b[38;5;241m0\u001b[39m, \u001b[38;5;241m0\u001b[39m], [\u001b[38;5;241m0\u001b[39m, \u001b[38;5;241m0\u001b[39m, \u001b[38;5;241m0\u001b[39m, \u001b[38;5;241m0\u001b[39m, \u001b[38;5;241m0\u001b[39m, \u001b[38;5;241m0\u001b[39m]], \u001b[38;5;66;03m# middle row \u001b[39;00m\n\u001b[0;32m     36\u001b[0m                     [[\u001b[38;5;241m0\u001b[39m, \u001b[38;5;241m0\u001b[39m, \u001b[38;5;241m0\u001b[39m, \u001b[38;5;241m0\u001b[39m, \u001b[38;5;241m0\u001b[39m, \u001b[38;5;241m0\u001b[39m], [\u001b[38;5;241m0\u001b[39m, \u001b[38;5;241m0\u001b[39m, \u001b[38;5;241m0\u001b[39m, \u001b[38;5;241m0\u001b[39m, \u001b[38;5;241m0\u001b[39m, \u001b[38;5;241m0\u001b[39m], [\u001b[38;5;241m0\u001b[39m, \u001b[38;5;241m0\u001b[39m, \u001b[38;5;241m0\u001b[39m, \u001b[38;5;241m0\u001b[39m, \u001b[38;5;241m0\u001b[39m, \u001b[38;5;241m0\u001b[39m]]] \u001b[38;5;66;03m# bottom row\u001b[39;00m\n\u001b[0;32m     38\u001b[0m middle_pose \u001b[38;5;241m=\u001b[39m [\u001b[38;5;241m0\u001b[39m, \u001b[38;5;241m0\u001b[39m, \u001b[38;5;241m0\u001b[39m, \u001b[38;5;241m0\u001b[39m, \u001b[38;5;241m0\u001b[39m, \u001b[38;5;241m0\u001b[39m]\u001b[38;5;66;03m# here is the safe postion for robot between picking and placing\u001b[39;00m\n",
      "\u001b[1;31mNameError\u001b[0m: name 'x' is not defined"
     ]
    }
   ],
   "source": [
    "##########\n",
    "# Config #\n",
    "##########\n",
    "\n",
    "robot_ip_address = \"localhost\"  # robot ip address\n",
    "tcp_output = [0, 0, 1]  # output pin for the suction cup(pin, off state, on state)\n",
    "tcp_frame = [0, 0, 20, 0, 0, 0]  # define the tool length and position\n",
    "speed = 0.5  # speed of the robot\n",
    "\n",
    "sleep_period = 1 # period allowing other robot to react to see if pin 5=0 and to set its pin 5=0\n",
    "\n",
    "playing_io = [5, 0, 1]  # [io pin, not playing state, playing state]\n",
    "place_io = [1, 2, 3, 4]  # io pin we use to signal placment position\n",
    "\n",
    "# setting the placement positions on the board to corresponding to pin values\n",
    "board_to_pin = {\n",
    "    (0, 0): [0, 0, 0, 1],  # Top-left\n",
    "    (0, 1): [0, 0, 1, 0],  # Top-middle\n",
    "    (0, 2): [0, 0, 1, 1],  # Top-right\n",
    "    (1, 0): [0, 1, 0, 0],  # Middle-left\n",
    "    (1, 1): [0, 1, 0, 1],  # Center\n",
    "    (1, 2): [0, 1, 1, 0],  # Middle-right\n",
    "    (2, 0): [0, 1, 1, 1],  # Bottom-left\n",
    "    (2, 1): [1, 0, 0, 0],  # Bottom-middle\n",
    "    (2, 2): [1, 0, 0, 1]   # Bottom-right\n",
    "}\n",
    "\n",
    "pick_position = [[x, y, z, a, b, c],  # position to grab first chip\n",
    "                  [x, y, z, a, b, c],  # position to grab second chip\n",
    "                  [x, y, z, a, b, c],  # position to grab third chip\n",
    "                  [x, y, z, a, b, c],  # position to grab fourth chip\n",
    "                  [x, y, z, a, b, c]]  # position to grab fifth chip\n",
    "\n",
    "place_point = [[[0, 0, 0, 0, 0, 0], [0, 0, 0, 0, 0, 0], [0, 0, 0, 0, 0, 0]],  # Top row\n",
    "                    [[0, 0, 0, 0, 0, 0], [0, 0, 0, 0, 0, 0], [0, 0, 0, 0, 0, 0]], # middle row \n",
    "                    [[0, 0, 0, 0, 0, 0], [0, 0, 0, 0, 0, 0], [0, 0, 0, 0, 0, 0]]] # bottom row\n",
    "\n",
    "middle_pose = [0, 0, 0, 0, 0, 0]# here is the safe postion for robot between picking and placing\n",
    "safe_joint = [1, 1, 1, 1 ,1 ,1 ]# safe position so other robot can work"
   ]
  },
  {
   "cell_type": "code",
   "execution_count": null,
   "metadata": {},
   "outputs": [],
   "source": [
    "####################\n",
    "# Helper Functions #\n",
    "####################\n",
    "def check_win(board, player):  # checks for a win\n",
    "    win_conditions = [\n",
    "        # Check rows\n",
    "        [board[0][0], board[0][1], board[0][2]],\n",
    "        [board[1][0], board[1][1], board[1][2]],\n",
    "        [board[2][0], board[2][1], board[2][2]],\n",
    "        # Check columns\n",
    "        [board[0][0], board[1][0], board[2][0]],\n",
    "        [board[0][1], board[1][1], board[2][1]],\n",
    "        [board[0][2], board[1][2], board[2][2]],\n",
    "        # Check diagonals\n",
    "        [board[0][0], board[1][1], board[2][2]],\n",
    "        [board[2][0], board[1][1], board[0][2]]\n",
    "    ]\n",
    "    return [player, player, player] in win_conditions # checks if a win condition is met\n",
    "\n",
    "\n",
    "def chip_postion(board):  # finds an open position on the board\n",
    "    # remaining positions\n",
    "    remaining_position = [[i, j] for i in range(3) for j in range(3) if matrix[i][j] is None]\n",
    "    \n",
    "    # reshuffle to make it random\n",
    "    random.shuffle(remaining_position)\n",
    "\n",
    "    # return the first element\n",
    "    return remaining_position[0]"
   ]
  },
  {
   "cell_type": "code",
   "execution_count": null,
   "metadata": {},
   "outputs": [],
   "source": [
    "robot = Dorna() # create the Dorna object"
   ]
  },
  {
   "cell_type": "code",
   "execution_count": null,
   "metadata": {
    "id": "UpS6wirOHxaw"
   },
   "outputs": [],
   "source": [
    "# tic-tac-toe board matrix\n",
    "board = [[None, None, None],\n",
    "         [None, None, None],\n",
    "         [None, None, None]]\n",
    "\n",
    "robot.connect(robot_ip_address)  # connect to robot\n",
    "robot.set_motor(1)  # turn on the robot motors\n",
    "robot.jmove(safe_joint)  #set safe initial position\n",
    "robot.set_output(tcp_output[0], tcp_output[1]) # set output, (pin, state)\n",
    "robot.set_output(playing_flag[0], playing_flag[1]) # set output "
   ]
  },
  {
   "cell_type": "code",
   "execution_count": null,
   "metadata": {
    "id": "PymfCbaWPIHX"
   },
   "outputs": [],
   "source": [
    "# game loop #\n",
    "for i in range(5):  # each user can make maximimom of 5 moves \n",
    "\n",
    "    robot.wait(**{\"in\"+str(playing_io[0]): playing_io[1]}) # wait for the robot to finish making a move\n",
    "\n",
    "    # upate the board matrix\n",
    "    place = []\n",
    "    for io in chip_place_io:\n",
    "         chip_place_position.append(robot.get_input(io))\n",
    "    \n",
    "    # find the drplace position\n",
    "    position_to_pins\n",
    "\n",
    "\n",
    "    robot.set_output(playing_flag[0], playing_flag[2]) # signal that this robot is making a move\n",
    "\n",
    "    row, col = chip_postion(board) # randomly select a random open position on the board\n",
    "\n",
    "    flag = position_to_pins[(row, col)] # get corresponding pins\n",
    "\n",
    "    board[row][col] = \"X\" if move_number % 2 == 0 else \"O\"  # update board matrix\n",
    "\n",
    "    # executes the robots motion\n",
    "    robot.pick_n_place(\n",
    "        pick_pose=chip_pick_position[pick_index], # pose from which the robot pick the place\n",
    "        middle_pose=middle_pose, # pose between pick and place\n",
    "        place_pose=chip_place_position[row, col], # pose where the robot places the chip\n",
    "        end_pose=safe_pose, # clear pose move to after placing the chip\n",
    "        tcp=tcp_frame, # tool length and position (tool center point)\n",
    "        speed=speed, # speed of movement\n",
    "        output=tcp_output\n",
    "    )\n",
    "    \n",
    "    set_pins(PIN_MOVE_POSITIONS, move_position_pins) # set the move position using io pins\n",
    "\n",
    "    set_pins([PIN_MOVE_IN_PROGRESS], [0]) # signal move completion\n",
    "\n",
    "\n",
    "    robot.sleep(SLEEP_PERIOD) #  sleep to allow the other robot to read the move\n",
    "\n",
    "    ########################\n",
    "    # update the grab position index\n",
    "    pick_index += 1\n",
    "\n",
    "    # check for a win condition\n",
    "    if check_win(board, player):\n",
    "        print(f\"Player {player} wins!\")\n",
    "        # move to safe position and exit loop\n",
    "        robot.jmove(safe_pose)\n",
    "        break # exit loop if the player wins\n",
    "else:\n",
    "        # no open position found, end the game\n",
    "        print(\"It's a draw!\")\n",
    "        robot.jmove(safe_pose)  # move to safe position\n",
    "        break # exit loop if there is a draw\n",
    "\n",
    "    # signal that this robot has completed the move\n",
    "    set_pins([PIN_MOVE_IN_PROGRESS], [0])\n",
    "\n",
    "    # wait for the other robot's turn to complete\n",
    "    while read_pins([PIN_MOVE_IN_PROGRESS])[0] == 1:\n",
    "        robot.sleep(SLEEP_PERIOD)  # waiting interval\n",
    "\n",
    "# Close connection\n",
    "robot.close()"
   ]
  }
 ],
 "metadata": {
  "colab": {
   "provenance": []
  },
  "kernelspec": {
   "display_name": "Python 3 (ipykernel)",
   "language": "python",
   "name": "python3"
  },
  "language_info": {
   "codemirror_mode": {
    "name": "ipython",
    "version": 3
   },
   "file_extension": ".py",
   "mimetype": "text/x-python",
   "name": "python",
   "nbconvert_exporter": "python",
   "pygments_lexer": "ipython3",
   "version": "3.12.4"
  }
 },
 "nbformat": 4,
 "nbformat_minor": 4
}
