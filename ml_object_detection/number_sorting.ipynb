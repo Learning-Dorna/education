{
  "nbformat": 4,
  "nbformat_minor": 0,
  "metadata": {
    "colab": {
      "provenance": []
    },
    "kernelspec": {
      "name": "python3",
      "display_name": "Python 3"
    },
    "language_info": {
      "name": "python"
    }
  },
  "cells": [
    {
      "cell_type": "code",
      "execution_count": null,
      "metadata": {
        "colab": {
          "base_uri": "https://localhost:8080/",
          "height": 211
        },
        "id": "xdvza51b3FSX",
        "outputId": "16af48a6-9920-42af-b26f-10cdae4a6d3f"
      },
      "outputs": [
        {
          "output_type": "error",
          "ename": "NameError",
          "evalue": "name 'x1' is not defined",
          "traceback": [
            "\u001b[0;31m---------------------------------------------------------------------------\u001b[0m",
            "\u001b[0;31mNameError\u001b[0m                                 Traceback (most recent call last)",
            "\u001b[0;32m<ipython-input-1-554bdb42424b>\u001b[0m in \u001b[0;36m<cell line: 13>\u001b[0;34m()\u001b[0m\n\u001b[1;32m     11\u001b[0m \u001b[0;34m\u001b[0m\u001b[0m\n\u001b[1;32m     12\u001b[0m place_positions = {\n\u001b[0;32m---> 13\u001b[0;31m     \u001b[0;36m1\u001b[0m\u001b[0;34m:\u001b[0m \u001b[0;34m[\u001b[0m\u001b[0mx1\u001b[0m\u001b[0;34m,\u001b[0m \u001b[0my1\u001b[0m\u001b[0;34m,\u001b[0m \u001b[0mz1\u001b[0m\u001b[0;34m,\u001b[0m \u001b[0ma1\u001b[0m\u001b[0;34m,\u001b[0m \u001b[0mb1\u001b[0m\u001b[0;34m,\u001b[0m \u001b[0mc1\u001b[0m\u001b[0;34m]\u001b[0m\u001b[0;34m,\u001b[0m  \u001b[0;31m# Position for class 1\u001b[0m\u001b[0;34m\u001b[0m\u001b[0;34m\u001b[0m\u001b[0m\n\u001b[0m\u001b[1;32m     14\u001b[0m     \u001b[0;36m2\u001b[0m\u001b[0;34m:\u001b[0m \u001b[0;34m[\u001b[0m\u001b[0mx2\u001b[0m\u001b[0;34m,\u001b[0m \u001b[0my2\u001b[0m\u001b[0;34m,\u001b[0m \u001b[0mz2\u001b[0m\u001b[0;34m,\u001b[0m \u001b[0ma2\u001b[0m\u001b[0;34m,\u001b[0m \u001b[0mb2\u001b[0m\u001b[0;34m,\u001b[0m \u001b[0mc2\u001b[0m\u001b[0;34m]\u001b[0m\u001b[0;34m,\u001b[0m  \u001b[0;31m# Position for class 2\u001b[0m\u001b[0;34m\u001b[0m\u001b[0;34m\u001b[0m\u001b[0m\n\u001b[1;32m     15\u001b[0m     \u001b[0;36m3\u001b[0m\u001b[0;34m:\u001b[0m \u001b[0;34m[\u001b[0m\u001b[0mx3\u001b[0m\u001b[0;34m,\u001b[0m \u001b[0my3\u001b[0m\u001b[0;34m,\u001b[0m \u001b[0mz3\u001b[0m\u001b[0;34m,\u001b[0m \u001b[0ma3\u001b[0m\u001b[0;34m,\u001b[0m \u001b[0mb3\u001b[0m\u001b[0;34m,\u001b[0m \u001b[0mc3\u001b[0m\u001b[0;34m]\u001b[0m\u001b[0;34m,\u001b[0m  \u001b[0;31m# Position for class 3\u001b[0m\u001b[0;34m\u001b[0m\u001b[0;34m\u001b[0m\u001b[0m\n",
            "\u001b[0;31mNameError\u001b[0m: name 'x1' is not defined"
          ]
        }
      ],
      "source": [
        "###############\n",
        "# Config Cell #\n",
        "###############\n",
        "\n",
        "\n",
        "output = [0, 0, 1] #output in order (pin, off state, on state)\n",
        "tcp = [0, 0, 0, 0, 0, 0] # define the tool length and position\n",
        "robot_ip_address = \"192.168.1.100\" # define the robot ip adress\n",
        "\n",
        "\n",
        "# Replace the below matrix with actual calibration matrix\n",
        "T_robot_camera = [\n",
        "    [1, 0, 0, 0],\n",
        "    [0, 1, 0, 0],\n",
        "    [0, 0, 1, 0],\n",
        "    [0, 0, 0, 1]\n",
        "]\n",
        "\n",
        "\n",
        "place_positions = {\n",
        "    1: [0, 0, 0, 0, 0, 0],  # Position for placing chip 1\n",
        "    2: [0, 0, 0, 0, 0, 0],  # Position for placing chip 2\n",
        "    3: [0, 0, 0, 0, 0, 0],  # Position for placing chip 3\n",
        "    4: [0, 0, 0, 0, 0, 0],  # Position for placing chip 4\n",
        "    5: [0, 0, 0, 0, 0, 0],  # Position for placing chip 5\n",
        "}\n",
        "\n",
        "middle_position = [0, 0, 0, 0, 0, 0]# here is the postion to robot will go to after picking but before placing\n",
        "\n",
        "imaging_position = [1, 1, 1, 1, 1, 1] # here define the postion that the robot will take an image from when searching for objects\n",
        "\n",
        "speed = 0.5 # here set the speed of the robot"
      ]
    },
    {
      "cell_type": "code",
      "source": [
        "robot = Dorna() # initialize robot\n",
        "robot.connect(robot_ip_address) # connect to robot\n",
        "\n",
        "camera = Camera() # initialize camera\n",
        "camera.connect() # connect to camera\n",
        "\n",
        "od = Detection(robot, camera, T_robot_camera) # initialize the object detection"
      ],
      "metadata": {
        "id": "Y6--bSAI5M-H"
      },
      "execution_count": null,
      "outputs": []
    },
    {
      "cell_type": "code",
      "source": [
        "robot.set_motor(1) # turn on the robot motors\n",
        "robot.jmove()  #set safe initial position\n",
        "robot.set_output(0, 0) # set output, (pin, state)"
      ],
      "metadata": {
        "id": "2Em3IsBS5lH9"
      },
      "execution_count": null,
      "outputs": []
    },
    {
      "cell_type": "code",
      "source": [
        "for i in range(5):  # range is set to 5 because we have 5 chips\n",
        "    # run the object detection\n",
        "    result = od.run(**kwargs)\n",
        "\n",
        "    if result:\n",
        "\n",
        "        pick_position = result[0][\"tvec\"] + [180, 0, 0] # get the pick position from the detection result\n",
        "\n",
        "        object_class = result[0][\"cls\"] # get the class of the detected chip\n",
        "\n",
        "        place_position = place_positions.get(object_class) # find the place position based on the chip's number\n",
        "\n",
        "\n",
        "        if place_position:\n",
        "            # this executes the pick-and-place operation\n",
        "            robot.pick_n_place(\n",
        "                pick_pose=pick_position, # pick position we got from detection\n",
        "                middle_pose=middle_position, # middle postion which we defined in the cfg cell\n",
        "                place_pose=place_position, # place poistion which we got from the class\n",
        "                end_pose=imaging_position, # end position which we will call the imaging postion because after ending  we want to scan again\n",
        "                tcp=tcp, # tcp is the tool length and postion which we deffined in the cfg cell\n",
        "                speed=speed # speed which we also defined in the cfg cell\n",
        "            )\n",
        "        else:\n",
        "            print(f\"Error, place position out of range\")"
      ],
      "metadata": {
        "id": "04f7CW9X67wV"
      },
      "execution_count": null,
      "outputs": []
    },
    {
      "cell_type": "code",
      "source": [
        "robot.close() # close robot\n",
        "camera.close() # close camera\n",
        "od.close() #close object detection"
      ],
      "metadata": {
        "id": "rxf9_HPD9n5E"
      },
      "execution_count": null,
      "outputs": []
    }
  ]
}