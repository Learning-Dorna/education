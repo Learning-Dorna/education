{
  "nbformat": 4,
  "nbformat_minor": 0,
  "metadata": {
    "colab": {
      "provenance": []
    },
    "kernelspec": {
      "name": "python3",
      "display_name": "Python 3"
    },
    "language_info": {
      "name": "python"
    }
  },
  "cells": [
    {
      "cell_type": "code",
      "source": [
        "from dorna2 import Dorna\n",
        "import numpy as np"
      ],
      "metadata": {
        "id": "K5TpKHqgFxC4"
      },
      "execution_count": null,
      "outputs": []
    },
    {
      "cell_type": "code",
      "execution_count": null,
      "metadata": {
        "id": "lpcSQix20R1l"
      },
      "outputs": [],
      "source": [
        "###############\n",
        "# Config Cell #\n",
        "###############\n",
        "\n",
        "robot_ip_address = \"192.168.1.100\"  # the robot ip address\n",
        "gripper_output = [0, 0, 1]  # gripper output configuration: (pin, off state, on state)\n",
        "tcp = [0, 0, 0, 0, 0, 0]  # tool center point, tool length and position\n",
        "positions = {\n",
        "    \"A1\": [0, 0, 0, 0, 0, 0],  # position for A1\n",
        "    \"A6\": [0, 0, 0, 0, 0, 0],  # position for A6 (example distance)\n",
        "    \"D1\": [0, 0, 0, 0, 0, 0],  # position for D1 (example distance)\n",
        "}\n",
        "\n",
        "middle_position = [0, 0, 0, 0, 0, 0]  # middle position to hold vial at\n",
        "safe_joint = [0, 0, 0, 0, 0, 0]  # safe while waiting to pick position\n",
        "safe_position = []  # j-value of safe joint\n",
        "speed = 0.5  # set the robot speed"
      ]
    },
    {
      "cell_type": "code",
      "source": [
        "row_distance = np.divide(np.subtract(positions[\"D1\"], positions[\"A1\"]), 3)  # calculates distance between rows\n",
        "column_distance = np.divide(np.subtract(positions[\"A6\"], positions[\"A1\"]), 5)  # calculates distance between columns\n",
        "\n",
        "# Generate positions for the entire grid\n",
        "grid_positions = {}\n",
        "rows = ['A', 'B', 'C', 'D']\n",
        "columns = ['1', '2', '3', '4', '5', '6']\n",
        "\n",
        "for i, row in enumerate(rows):\n",
        "    for j, column in enumerate(columns):\n",
        "        # calculate the position of each cell\n",
        "        position = np.add(positions[\"A1\"], i * row_distance + j * column_distance)\n",
        "        grid_positions[f\"{row}{column}\"] = position.tolist()"
      ],
      "metadata": {
        "id": "-wQMExAfBNXC"
      },
      "execution_count": null,
      "outputs": []
    },
    {
      "cell_type": "code",
      "source": [
        "robot = Dorna()\n",
        "robot.connect(robot_ip_address)"
      ],
      "metadata": {
        "id": "7E4Vu4StCi7r"
      },
      "execution_count": null,
      "outputs": []
    },
    {
      "cell_type": "code",
      "source": [
        "robot.set_output(gripper_output[0], gripper_output[1])  # set output (pin, state)\n",
        "robot.set_motor(1)  # turn on the robot motors\n",
        "robot.jmove(safe_joint)  # Move to a safe initial position"
      ],
      "metadata": {
        "id": "Wj8kJT6wChK_"
      },
      "execution_count": null,
      "outputs": []
    },
    {
      "cell_type": "code",
      "source": [
        "###############\n",
        "# Pick and Place Operation #\n",
        "###############\n",
        "\n",
        "# prompt user for pick and place positions\n",
        "pick_location = input(\"Where do you want to pick from? (e.g., C2): \").upper()\n",
        "place_location = input(\"Where do you want to place the vial? (e.g., D6): \").upper()\n",
        "\n",
        "# ensure valid inputs\n",
        "if pick_location not in grid_positions or place_location not in grid_positions:\n",
        "    raise ValueError(\"Invalid grid position entered. Please use the format 'C2'.\")\n",
        "\n",
        "# get positions from the grid\n",
        "pick_position = grid_positions[pick_location]\n",
        "place_position = grid_positions[place_location]\n",
        "\n",
        "# execute the pick-and-place operation\n",
        "robot.pick_n_place(\n",
        "    pick_pose=pick_position,       # pick position from user input\n",
        "    middle_pose=middle_position,   # middle position to avoid obstacles\n",
        "    place_pose=place_position,     # place position from user input\n",
        "    end_pose=safe_position,        # end position (e.g., for imaging)\n",
        "    output=gripper_output,         # gripper control: [pin_number, pick_state, place_state]\n",
        "    above=5,                       # above position offset for safe pick/place\n",
        "    sleep=0.5,                     # delay between operations\n",
        "    tcp=tcp,                       # tool\n",
        "    speed=speed                    # movement speed\n",
        ")"
      ],
      "metadata": {
        "id": "FVzNZ6F8DEjY"
      },
      "execution_count": null,
      "outputs": []
    },
    {
      "cell_type": "code",
      "source": [
        "robot.close() # close the robot connection"
      ],
      "metadata": {
        "id": "Pr14S8xUDMAx"
      },
      "execution_count": null,
      "outputs": []
    }
  ]
}