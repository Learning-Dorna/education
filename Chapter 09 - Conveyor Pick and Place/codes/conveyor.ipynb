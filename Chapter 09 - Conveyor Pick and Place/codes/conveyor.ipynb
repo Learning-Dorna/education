{
 "cells": [
  {
   "cell_type": "markdown",
   "metadata": {},
   "source": [
    "This segment of the code is used to import both the Dona and time libraries. These are used for time delays, triggering and receiving signals from I/O ports, and arm movement. "
   ]
  },
  {
   "cell_type": "code",
   "execution_count": 1,
   "metadata": {
    "id": "U_9oV3jtE4Kp"
   },
   "outputs": [],
   "source": [
    "from dorna2 import Dorna\n",
    "import time"
   ]
  },
  {
   "cell_type": "markdown",
   "metadata": {},
   "source": [
    "Now time for configurations, you may need to change these configurations based on your specific set-up."
   ]
  },
  {
   "cell_type": "code",
   "execution_count": 1,
   "metadata": {
    "colab": {
     "base_uri": "https://localhost:8080/",
     "height": 211
    },
    "id": "Kru8X1UKHpmy",
    "outputId": "7ae05c4c-8cef-4ddc-f48d-03b3fc2e95e2"
   },
   "outputs": [
    {
     "ename": "NameError",
     "evalue": "name 'x' is not defined",
     "output_type": "error",
     "traceback": [
      "\u001b[1;31m---------------------------------------------------------------------------\u001b[0m",
      "\u001b[1;31mNameError\u001b[0m                                 Traceback (most recent call last)",
      "Cell \u001b[1;32mIn[1], line 28\u001b[0m\n\u001b[0;32m     15\u001b[0m \u001b[38;5;66;03m# setting the placement positions on the board to corresponding to pin values\u001b[39;00m\n\u001b[0;32m     16\u001b[0m position_to_pins \u001b[38;5;241m=\u001b[39m {\n\u001b[0;32m     17\u001b[0m     (\u001b[38;5;241m0\u001b[39m, \u001b[38;5;241m0\u001b[39m): [\u001b[38;5;241m0\u001b[39m, \u001b[38;5;241m0\u001b[39m, \u001b[38;5;241m0\u001b[39m, \u001b[38;5;241m1\u001b[39m],  \u001b[38;5;66;03m# Top-left\u001b[39;00m\n\u001b[0;32m     18\u001b[0m     (\u001b[38;5;241m0\u001b[39m, \u001b[38;5;241m1\u001b[39m): [\u001b[38;5;241m0\u001b[39m, \u001b[38;5;241m0\u001b[39m, \u001b[38;5;241m1\u001b[39m, \u001b[38;5;241m0\u001b[39m],  \u001b[38;5;66;03m# Top-middle\u001b[39;00m\n\u001b[1;32m   (...)\u001b[0m\n\u001b[0;32m     25\u001b[0m     (\u001b[38;5;241m2\u001b[39m, \u001b[38;5;241m2\u001b[39m): [\u001b[38;5;241m1\u001b[39m, \u001b[38;5;241m0\u001b[39m, \u001b[38;5;241m0\u001b[39m, \u001b[38;5;241m1\u001b[39m]   \u001b[38;5;66;03m# Bottom-right\u001b[39;00m\n\u001b[0;32m     26\u001b[0m }\n\u001b[1;32m---> 28\u001b[0m pick_position \u001b[38;5;241m=\u001b[39m [[\u001b[43mx\u001b[49m, y, z, a, b, c],  \u001b[38;5;66;03m# position to grab first chip\u001b[39;00m\n\u001b[0;32m     29\u001b[0m                   [x, y, z, a, b, c],  \u001b[38;5;66;03m# position to grab second chip\u001b[39;00m\n\u001b[0;32m     30\u001b[0m                   [x, y, z, a, b, c],  \u001b[38;5;66;03m# position to grab third chip\u001b[39;00m\n\u001b[0;32m     31\u001b[0m                   [x, y, z, a, b, c],  \u001b[38;5;66;03m# position to grab fourth chip\u001b[39;00m\n\u001b[0;32m     32\u001b[0m                   [x, y, z, a, b, c]]  \u001b[38;5;66;03m# position to grab fifth chip\u001b[39;00m\n\u001b[0;32m     34\u001b[0m place_point \u001b[38;5;241m=\u001b[39m [[[\u001b[38;5;241m0\u001b[39m, \u001b[38;5;241m0\u001b[39m, \u001b[38;5;241m0\u001b[39m, \u001b[38;5;241m0\u001b[39m, \u001b[38;5;241m0\u001b[39m, \u001b[38;5;241m0\u001b[39m], [\u001b[38;5;241m0\u001b[39m, \u001b[38;5;241m0\u001b[39m, \u001b[38;5;241m0\u001b[39m, \u001b[38;5;241m0\u001b[39m, \u001b[38;5;241m0\u001b[39m, \u001b[38;5;241m0\u001b[39m], [\u001b[38;5;241m0\u001b[39m, \u001b[38;5;241m0\u001b[39m, \u001b[38;5;241m0\u001b[39m, \u001b[38;5;241m0\u001b[39m, \u001b[38;5;241m0\u001b[39m, \u001b[38;5;241m0\u001b[39m]],  \u001b[38;5;66;03m# Top row\u001b[39;00m\n\u001b[0;32m     35\u001b[0m                     [[\u001b[38;5;241m0\u001b[39m, \u001b[38;5;241m0\u001b[39m, \u001b[38;5;241m0\u001b[39m, \u001b[38;5;241m0\u001b[39m, \u001b[38;5;241m0\u001b[39m, \u001b[38;5;241m0\u001b[39m], [\u001b[38;5;241m0\u001b[39m, \u001b[38;5;241m0\u001b[39m, \u001b[38;5;241m0\u001b[39m, \u001b[38;5;241m0\u001b[39m, \u001b[38;5;241m0\u001b[39m, \u001b[38;5;241m0\u001b[39m], [\u001b[38;5;241m0\u001b[39m, \u001b[38;5;241m0\u001b[39m, \u001b[38;5;241m0\u001b[39m, \u001b[38;5;241m0\u001b[39m, \u001b[38;5;241m0\u001b[39m, \u001b[38;5;241m0\u001b[39m]], \u001b[38;5;66;03m# middle row \u001b[39;00m\n\u001b[0;32m     36\u001b[0m                     [[\u001b[38;5;241m0\u001b[39m, \u001b[38;5;241m0\u001b[39m, \u001b[38;5;241m0\u001b[39m, \u001b[38;5;241m0\u001b[39m, \u001b[38;5;241m0\u001b[39m, \u001b[38;5;241m0\u001b[39m], [\u001b[38;5;241m0\u001b[39m, \u001b[38;5;241m0\u001b[39m, \u001b[38;5;241m0\u001b[39m, \u001b[38;5;241m0\u001b[39m, \u001b[38;5;241m0\u001b[39m, \u001b[38;5;241m0\u001b[39m], [\u001b[38;5;241m0\u001b[39m, \u001b[38;5;241m0\u001b[39m, \u001b[38;5;241m0\u001b[39m, \u001b[38;5;241m0\u001b[39m, \u001b[38;5;241m0\u001b[39m, \u001b[38;5;241m0\u001b[39m]]] \u001b[38;5;66;03m# bottom row\u001b[39;00m\n\u001b[0;32m     38\u001b[0m middle_pose \u001b[38;5;241m=\u001b[39m [\u001b[38;5;241m0\u001b[39m, \u001b[38;5;241m0\u001b[39m, \u001b[38;5;241m0\u001b[39m, \u001b[38;5;241m0\u001b[39m, \u001b[38;5;241m0\u001b[39m, \u001b[38;5;241m0\u001b[39m]\u001b[38;5;66;03m# here is the safe postion for robot between picking and placing\u001b[39;00m\n",
      "\u001b[1;31mNameError\u001b[0m: name 'x' is not defined"
     ]
    }
   ],
   "source": [
    "##########\n",
    "# Config #\n",
    "##########\n",
    "\n",
    "robot_ip_address = \"localhost\"  # robot ip address\n",
    "\n",
    "pneumatic_output = [7, 0, 1]  # output pin for the pneumatic gripper, the numbers indicate:\n",
    "# [corresponding output pin, the output value corresponding to its off state, and the output value corresponding to its on state] respectively\n",
    "\n",
    "conveyor_output = [1, 0, 1]  # output pin for the conveyor\n",
    "\n",
    "sensor_input = [6, 0, 1]  # input pin for the proximity sensor\n",
    "\n",
    "speed = 0.5  # speed of the robot\n",
    "\n",
    "sleep_period = 1 #how long should the conveyor wait before moving again after the completion of pick and place\n",
    "\n",
    "tcp_frame = [0, 0, 20, 0, 0, 0]  # define the tool length and position\n",
    "\n",
    "\n",
    "# **IMPORTANT**: These values should be also set by you:\n",
    "\n",
    "idle_joints = [0,0,0,0,0,0]      #idle position joints values\n",
    "pick_pose = [0,0,0,0,0,0]      #pick position xyzabc values\n",
    "middle_pose = [0,0,0,0,0,0]  #middle position xyzabc values\n",
    "place_pose= [0,0,0,0,0,0]   #place position xyzabc values"
   ]
  },
  {
   "cell_type": "code",
   "execution_count": null,
   "metadata": {},
   "outputs": [],
   "source": [
    "robot = Dorna() # create the Dorna object"
   ]
  },
  {
   "cell_type": "code",
   "execution_count": null,
   "metadata": {
    "id": "UpS6wirOHxaw"
   },
   "outputs": [],
   "source": [
    "\n",
    "robot.connect(robot_ip_address)  # connect to robot\n",
    "robot.set_motor(1)  # turn on the robot motors\n",
    "\n",
    "robot.jmove(idle_joints)  #set safe initial position\n"
   ]
  },
  {
   "cell_type": "code",
   "execution_count": null,
   "metadata": {
    "id": "PymfCbaWPIHX"
   },
   "outputs": [],
   "source": [
    "# main loop #\n",
    "for i in range(20):  # let's repeat this process for 20 cycles\n",
    "    \n",
    "    robot.set_output(conveyor_output[0], conveyor_output[2]) #The conveyor should start moving\n",
    "    \n",
    "    robot.probe(sensor_input[0], sensor_input[2]) #wait for the sensor to detect the box\n",
    "    \n",
    "    robot.set_output(conveyor_output[0], conveyor_output[1]) #stop the conveyor\n",
    "    \n",
    "    # executes the pick and place motion\n",
    "    robot.pick_n_place(\n",
    "        pick_pose=pick_pose, # pose from which the robot pick the place\n",
    "        middle_pose=middle_pose, # pose between pick and place\n",
    "        place_pose=place_pose, # pose where the robot places the chip\n",
    "        tcp=tcp_frame, # tool length and position (tool center point)\n",
    "        speed=speed, # speed of movement\n",
    "        output=pneumatic_output #the gripper output information\n",
    "    )\n",
    "    \n",
    "    robot.sleep(sleep_period) \n",
    "    "
   ]
  },
  {
   "cell_type": "code",
   "execution_count": null,
   "metadata": {},
   "outputs": [],
   "source": [
    "# Close connection\n",
    "robot.close()"
   ]
  }
 ],
 "metadata": {
  "colab": {
   "provenance": []
  },
  "kernelspec": {
   "display_name": "Python 3 (ipykernel)",
   "language": "python",
   "name": "python3"
  },
  "language_info": {
   "codemirror_mode": {
    "name": "ipython",
    "version": 3
   },
   "file_extension": ".py",
   "mimetype": "text/x-python",
   "name": "python",
   "nbconvert_exporter": "python",
   "pygments_lexer": "ipython3",
   "version": "3.12.4"
  }
 },
 "nbformat": 4,
 "nbformat_minor": 4
}
