{
 "cells": [
  {
   "cell_type": "markdown",
   "id": "ab825223-c206-460c-9cf4-43a03a3792e7",
   "metadata": {},
   "source": [
    "# **Lab Exercise 2**\n",
    "We start by importing the libraries needed: "
   ]
  },
  {
   "cell_type": "code",
   "execution_count": null,
   "id": "cb46cd90-748f-45ac-a709-468748670ff9",
   "metadata": {},
   "outputs": [],
   "source": [
    "import time\n",
    "from dorna2 import Dorna \n",
    "\n",
    "robot_ip_address = \"192.168.1.100\"  # the robot IP address\n"
   ]
  },
  {
   "cell_type": "markdown",
   "id": "9c664f2c-7bb4-4e3a-b214-ce4b92d02f52",
   "metadata": {},
   "source": [
    "We should also define an event handler function that checks each incoming message, to see if y>100, has happened. \n",
    "\n",
    "The first two inputs for this function should be \"msg\" and \"union\" and the rest of the inputs are up to us to choose. \n",
    "Here we only choose to pass the \"Dorna\" object instance to this function."
   ]
  },
  {
   "cell_type": "code",
   "execution_count": null,
   "id": "ebd9fa98-c956-4dab-923b-d05c225f7667",
   "metadata": {},
   "outputs": [],
   "source": [
    "def event_handler(msg, union, robot):\n",
    "\tif(union[\"y\"]>100.0):\n",
    "\t\trobot.halt()"
   ]
  },
  {
   "cell_type": "markdown",
   "id": "b214de57-7608-463c-9393-d2032a9a8dd0",
   "metadata": {},
   "source": [
    "Now it's time to create the Dorna instance, connect to it, and define the event handler:\n",
    "Look carefully at how the robot instance is getting passed here. "
   ]
  },
  {
   "cell_type": "code",
   "execution_count": null,
   "id": "c584db7d-aa76-4f1e-91de-cd078ff9014f",
   "metadata": {},
   "outputs": [],
   "source": [
    "\n",
    "robot = Dorna()\n",
    "robot.connect(robot_ip_address)\n",
    "robot.add_event(target = event_handler, kwargs={\"robot\": robot})     "
   ]
  },
  {
   "cell_type": "markdown",
   "id": "0aee532e-2e8a-48b3-acbb-f8781b36e9bb",
   "metadata": {},
   "source": [
    "Our first command is for the robot to move to the place where all the joint values are zero:"
   ]
  },
  {
   "cell_type": "code",
   "execution_count": null,
   "id": "80227fec-b1cb-4627-bd59-fb02c2984d46",
   "metadata": {},
   "outputs": [],
   "source": [
    "robot.jmove(timeout=-1, rel=0, vel=100, j0=0, j1=0, j2=0, j3=0, j4=0, j5=0)"
   ]
  },
  {
   "cell_type": "markdown",
   "id": "d0ba1dae-5df0-48b3-b006-b93e4da7f87f",
   "metadata": {},
   "source": [
    "Now it's time to generate the 30 ```jmove``` commands.\n",
    "To send all the 30 commands all at once to the controller's queue we set the ```timeout``` to zero:"
   ]
  },
  {
   "cell_type": "code",
   "execution_count": null,
   "id": "7f3fb542-4ffb-46c2-9d54-cbf0a0336f93",
   "metadata": {},
   "outputs": [],
   "source": [
    "for i in range(30):\n",
    "    j0 = ((-1)**i) * 10.0 #this takes care of the plus/minus\n",
    "    robot.jmove(timeout=0, rel=0, vel=100, j0=j0)"
   ]
  },
  {
   "cell_type": "markdown",
   "id": "12d2eac6-1d81-459f-b502-25a88c292e3f",
   "metadata": {},
   "source": [
    "But in order to wait for each commands execution before sending the next one we set ```timeout = -1```"
   ]
  },
  {
   "cell_type": "code",
   "execution_count": null,
   "id": "55454f29-69b2-44b1-b35b-d0a72c5f7d0d",
   "metadata": {},
   "outputs": [],
   "source": [
    "for i in range(30):\n",
    "    j0 = ((-1)**i) * 10.0 #this takes care of the plus/minus\n",
    "    robot.jmove(timeout=-1, rel=0, vel=100, j0=j0)"
   ]
  },
  {
   "cell_type": "markdown",
   "id": "2a213d80-8007-4b55-82d8-81b90efbbf6b",
   "metadata": {},
   "source": [
    "Sending them all at once is a better choice because we want the robot to completely stop working after the “Halt” has been sent, and as was discussed before, the halt command will totally clear the command queue. So if we fill the queue all at once, when the halt command is committed we are assured that all those commands are not going to be executed later on."
   ]
  },
  {
   "cell_type": "code",
   "execution_count": null,
   "id": "a790a802-cd26-4a3d-b0ed-3c76959986c0",
   "metadata": {},
   "outputs": [],
   "source": [
    "robot.close() # close the robot connection  "
   ]
  }
 ],
 "metadata": {
  "kernelspec": {
   "display_name": "Python 3 (ipykernel)",
   "language": "python",
   "name": "python3"
  },
  "language_info": {
   "codemirror_mode": {
    "name": "ipython",
    "version": 3
   },
   "file_extension": ".py",
   "mimetype": "text/x-python",
   "name": "python",
   "nbconvert_exporter": "python",
   "pygments_lexer": "ipython3",
   "version": "3.12.4"
  }
 },
 "nbformat": 4,
 "nbformat_minor": 5
}
