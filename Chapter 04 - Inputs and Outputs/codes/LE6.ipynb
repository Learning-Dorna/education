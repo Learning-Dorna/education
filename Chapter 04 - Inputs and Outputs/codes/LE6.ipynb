{
 "cells": [
  {
   "cell_type": "markdown",
   "id": "ab825223-c206-460c-9cf4-43a03a3792e7",
   "metadata": {},
   "source": [
    "###### **Lab Exercise 6**\n",
    "We start by importing the libraries needed: "
   ]
  },
  {
   "cell_type": "code",
   "execution_count": null,
   "id": "cb46cd90-748f-45ac-a709-468748670ff9",
   "metadata": {},
   "outputs": [],
   "source": [
    "from dorna2 import Dorna \n",
    "\n",
    "robot_ip_address = \"192.168.1.100\"  # the robot IP address\n"
   ]
  },
  {
   "cell_type": "markdown",
   "id": "b214de57-7608-463c-9393-d2032a9a8dd0",
   "metadata": {},
   "source": [
    "Now it's time to create the Dorna instance and connect the instance to the robot. "
   ]
  },
  {
   "cell_type": "code",
   "execution_count": null,
   "id": "c584db7d-aa76-4f1e-91de-cd078ff9014f",
   "metadata": {},
   "outputs": [],
   "source": [
    "\n",
    "robot = Dorna()\n",
    "robot.connect(robot_ip_address)\n"
   ]
  },
  {
   "cell_type": "markdown",
   "id": "d0ba1dae-5df0-48b3-b006-b93e4da7f87f",
   "metadata": {},
   "source": [
    "now it's time to define the main loop for this exercise. \n",
    "Let's say the button input has been connected to ```\"in3\"``` and pressing the button results in ```in3 = 1```."
   ]
  },
  {
   "cell_type": "code",
   "execution_count": null,
   "id": "7f3fb542-4ffb-46c2-9d54-cbf0a0336f93",
   "metadata": {},
   "outputs": [],
   "source": [
    "while True:\n",
    "    \n",
    "    result = robot.probe(3, 1)\n",
    "    result_str = ''.join(str(x) for x in result) #convert the result to string\n",
    "    robot.log(result_str) #print the result in Terminal, this can be seen in the Dorna lab's Python panel.\n",
    "    \n",
    "    robot.sleep(0.5)\n",
    "    "
   ]
  },
  {
   "cell_type": "markdown",
   "id": "2a213d80-8007-4b55-82d8-81b90efbbf6b",
   "metadata": {},
   "source": [
    "It's now the time to end the connection."
   ]
  },
  {
   "cell_type": "code",
   "execution_count": null,
   "id": "a790a802-cd26-4a3d-b0ed-3c76959986c0",
   "metadata": {},
   "outputs": [],
   "source": [
    "robot.close() # close the robot connection  "
   ]
  }
 ],
 "metadata": {
  "kernelspec": {
   "display_name": "Python 3 (ipykernel)",
   "language": "python",
   "name": "python3"
  },
  "language_info": {
   "codemirror_mode": {
    "name": "ipython",
    "version": 3
   },
   "file_extension": ".py",
   "mimetype": "text/x-python",
   "name": "python",
   "nbconvert_exporter": "python",
   "pygments_lexer": "ipython3",
   "version": "3.12.4"
  }
 },
 "nbformat": 4,
 "nbformat_minor": 5
}
