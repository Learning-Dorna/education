{
  "cells": [
    {
      "cell_type": "markdown",
      "metadata": {},
      "source": [
        "# Overview\n",
        "This notebook is designed to perform number sorting tasks using machine learning and computer vision techniques. It utilizes the Dorna robot, a camera, and object detection algorithms to sort objects based on their numbers."
      ]
    },
    {
      "cell_type": "markdown",
      "metadata": {},
      "source": [
        "## Imports and parameters"
      ]
    },
    {
      "cell_type": "code",
      "execution_count": null,
      "metadata": {},
      "outputs": [],
      "source": [
        "from dorna2 import Dorna\n",
        "from camera import Camera\n",
        "from dorna_vision import Detection\n",
        "import time"
      ]
    },
    {
      "cell_type": "code",
      "execution_count": null,
      "metadata": {
        "colab": {
          "base_uri": "https://localhost:8080/",
          "height": 211
        },
        "id": "xdvza51b3FSX",
        "outputId": "16af48a6-9920-42af-b26f-10cdae4a6d3f"
      },
      "outputs": [],
      "source": [
        "robot_ip_address = \"192.168.1.100\" # robot ip address\n",
        "output_config = [0, 0, 1] # output in order (pin, off state, on state)\n",
        "tcp = [0, 0, 0, 0, 0, 0] # tool length and position\n",
        "\n",
        "place_positions = {\n",
        "    1: [0, 0, 0, 0, 0, 0],  # Position for placing chip 1\n",
        "    2: [0, 0, 0, 0, 0, 0],  # Position for placing chip 2\n",
        "    3: [0, 0, 0, 0, 0, 0],  # Position for placing chip 3\n",
        "    4: [0, 0, 0, 0, 0, 0],  # Position for placing chip 4\n",
        "    5: [0, 0, 0, 0, 0, 0],  # Position for placing chip 5\n",
        "}\n",
        "\n",
        "middle_position = [0, 0, 0, 0, 0, 0]# here is the postion to robot will go to after picking but before placing\n",
        "imaging_position = [1, 1, 1, 1, 1, 1] # here define the postion that the robot will take an image from when searching for objects\n",
        "safe_joint = [1, 1, 1, 1 ,1 ,1 ]# here is the safe joint for robot to start\n",
        "speed = 0.5 # here set the speed of the robot\n",
        "\n",
        "# detection parameters\n",
        "detection_parameters = {\n",
        "    \n",
        "}"
      ]
    },
    {
      "cell_type": "markdown",
      "metadata": {},
      "source": [
        "## Initialization"
      ]
    },
    {
      "cell_type": "code",
      "execution_count": null,
      "metadata": {
        "id": "Y6--bSAI5M-H"
      },
      "outputs": [],
      "source": [
        "robot = Dorna() # initialize robot\n",
        "robot.connect(robot_ip_address) # connect to robot\n",
        "\n",
        "camera = Camera() # initialize camera\n",
        "camera.connect() # connect to camera\n",
        "\n",
        "od = Detection(robot, camera) # initialize the object detection"
      ]
    },
    {
      "cell_type": "code",
      "execution_count": null,
      "metadata": {
        "id": "2Em3IsBS5lH9"
      },
      "outputs": [],
      "source": [
        "robot.set_output(output_config[0], output_config[1]) # set output\n",
        "robot.set_motor(1) # turn on the robot motors\n",
        "robot.sleep(1) # sleep to allow the robot to settle before moving\n",
        "robot.jmove(safe_joint)  #set safe initial position"
      ]
    },
    {
      "cell_type": "markdown",
      "metadata": {},
      "source": [
        "## Main loop"
      ]
    },
    {
      "cell_type": "code",
      "execution_count": null,
      "metadata": {
        "id": "04f7CW9X67wV"
      },
      "outputs": [],
      "source": [
        "for i in range(5):  # range is set to 5 because we have 5 chips\n",
        "    # run the object detection\n",
        "    result = od.run(**detection_parameters)\n",
        "\n",
        "    if result: # if there is an object detected\n",
        "\n",
        "        pick_position = result[0][\"tvec\"] + [180, 0, 0] # get the pick position from the detection result\n",
        "        object_class = result[0][\"cls\"] # get the class of the detected chip\n",
        "        place_position = place_positions[object_class] # find the place position based on the chip's number\n",
        "\n",
        "        # this executes the pick-and-place operation\n",
        "        robot.pick_n_place(\n",
        "            pick_pose=pick_position, # pick position we got from detection\n",
        "            middle_pose=middle_position, # middle postion which we defined in the cfg cell\n",
        "            place_pose=place_position, # place poistion which we got from the class\n",
        "            end_pose=imaging_position, # end position which we will call the imaging postion because after ending  we want to scan again\n",
        "            tcp=tcp, # tcp is the tool length and postion which we deffined in the cfg cell\n",
        "            speed=speed, # speed which we also defined in the cfg cell\n",
        "            output_config = output_config # output in order (pin, off state, on state)\n",
        "        )\n",
        "\n",
        "    time.sleep(1)"
      ]
    },
    {
      "cell_type": "markdown",
      "metadata": {},
      "source": [
        "## Ending"
      ]
    },
    {
      "cell_type": "code",
      "execution_count": null,
      "metadata": {
        "id": "rxf9_HPD9n5E"
      },
      "outputs": [],
      "source": [
        "robot.close() # close robot\n",
        "camera.close() # close camera\n",
        "od.close() # close object detection"
      ]
    }
  ],
  "metadata": {
    "colab": {
      "provenance": []
    },
    "kernelspec": {
      "display_name": "Python 3",
      "name": "python3"
    },
    "language_info": {
      "name": "python",
      "version": "3.9.7"
    }
  },
  "nbformat": 4,
  "nbformat_minor": 0
}
