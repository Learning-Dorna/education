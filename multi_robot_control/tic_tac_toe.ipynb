{
  "cells": [
    {
      "cell_type": "code",
      "execution_count": 1,
      "metadata": {
        "id": "U_9oV3jtE4Kp"
      },
      "outputs": [],
      "source": [
        "###########\n",
        "# Imports #\n",
        "###########\n",
        "import random\n",
        "from dorna2 import Dorna"
      ]
    },
    {
      "cell_type": "code",
      "execution_count": 1,
      "metadata": {
        "colab": {
          "base_uri": "https://localhost:8080/",
          "height": 211
        },
        "id": "Kru8X1UKHpmy",
        "outputId": "7ae05c4c-8cef-4ddc-f48d-03b3fc2e95e2"
      },
      "outputs": [
        {
          "ename": "NameError",
          "evalue": "name 'x' is not defined",
          "output_type": "error",
          "traceback": [
            "\u001b[0;31m---------------------------------------------------------------------------\u001b[0m",
            "\u001b[0;31mNameError\u001b[0m                                 Traceback (most recent call last)",
            "\u001b[0;32m<ipython-input-1-903d563453e9>\u001b[0m in \u001b[0;36m<cell line: 27>\u001b[0;34m()\u001b[0m\n\u001b[1;32m     25\u001b[0m }\n\u001b[1;32m     26\u001b[0m \u001b[0;34m\u001b[0m\u001b[0m\n\u001b[0;32m---> 27\u001b[0;31m GRAB_POSITIONS = [[x, y, z, a, b, c],  # position to grab first chip\n\u001b[0m\u001b[1;32m     28\u001b[0m                   \u001b[0;34m[\u001b[0m\u001b[0mx\u001b[0m\u001b[0;34m,\u001b[0m \u001b[0my\u001b[0m\u001b[0;34m,\u001b[0m \u001b[0mz\u001b[0m\u001b[0;34m,\u001b[0m \u001b[0ma\u001b[0m\u001b[0;34m,\u001b[0m \u001b[0mb\u001b[0m\u001b[0;34m,\u001b[0m \u001b[0mc\u001b[0m\u001b[0;34m]\u001b[0m\u001b[0;34m,\u001b[0m  \u001b[0;31m# position to grab second chip\u001b[0m\u001b[0;34m\u001b[0m\u001b[0;34m\u001b[0m\u001b[0m\n\u001b[1;32m     29\u001b[0m                   \u001b[0;34m[\u001b[0m\u001b[0mx\u001b[0m\u001b[0;34m,\u001b[0m \u001b[0my\u001b[0m\u001b[0;34m,\u001b[0m \u001b[0mz\u001b[0m\u001b[0;34m,\u001b[0m \u001b[0ma\u001b[0m\u001b[0;34m,\u001b[0m \u001b[0mb\u001b[0m\u001b[0;34m,\u001b[0m \u001b[0mc\u001b[0m\u001b[0;34m]\u001b[0m\u001b[0;34m,\u001b[0m  \u001b[0;31m# position to grab third chip\u001b[0m\u001b[0;34m\u001b[0m\u001b[0;34m\u001b[0m\u001b[0m\n",
            "\u001b[0;31mNameError\u001b[0m: name 'x' is not defined"
          ]
        }
      ],
      "source": [
        "###############\n",
        "# Config Cell #\n",
        "###############\n",
        "\n",
        "robot_ip_address = \"localhost\"  # robot ip address\n",
        "tcp_output = [0, 0, 1]  # output pin for the suction cup(pin, off state, on state)\n",
        "tcp_frame = [0, 0, 20, 0, 0, 0]  # define the tool length and position\n",
        "speed = 0.5  # speed of the robot\n",
        "\n",
        "sleep_period = 1 # period allowing other robot to react to see if pin 5=0 and to set its pin 5=0\n",
        "\n",
        "playing_flag = [5, 0, 1]  # [output pin, not playing state, playing state]\n",
        "chip_place_flag = [1, 2, 3, 4]  # io pin we use to signal placment position\n",
        "\n",
        "chip_pick_position = [[x, y, z, a, b, c],  # position to grab first chip\n",
        "                  [x, y, z, a, b, c],  # position to grab second chip\n",
        "                  [x, y, z, a, b, c],  # position to grab third chip\n",
        "                  [x, y, z, a, b, c],  # position to grab fourth chip\n",
        "                  [x, y, z, a, b, c]]  # position to grab fifth chip\n",
        "\n",
        "chip_place_position = [[[0, 0, 0, 0, 0, 0], [0, 0, 0, 0, 0, 0], [0, 0, 0, 0, 0, 0]],  # Top row\n",
        "                    [[0, 0, 0, 0, 0, 0], [0, 0, 0, 0, 0, 0], [0, 0, 0, 0, 0, 0]], # middle row \n",
        "                    [[0, 0, 0, 0, 0, 0], [0, 0, 0, 0, 0, 0], [0, 0, 0, 0, 0, 0]]] # bottom row\n",
        "\n",
        "# setting the placement positions on the board to corresponding to pin values\n",
        "chip_place = {\n",
        "    (0, 0): [0, 0, 0, 0],  # Top-left\n",
        "    (0, 1): [0, 0, 0, 1],  # Top-middle\n",
        "    (0, 2): [0, 0, 1, 0],  # Top-right\n",
        "    (1, 0): [0, 1, 0, 0],  # Middle-left\n",
        "    (1, 1): [0, 1, 0, 1],  # Center\n",
        "    (1, 2): [0, 1, 1, 0],  # Middle-right\n",
        "    (2, 0): [1, 0, 0, 0],  # Bottom-left\n",
        "    (2, 1): [1, 0, 0, 1],  # Bottom-middle\n",
        "    (2, 2): [1, 0, 1, 0]   # Bottom-right\n",
        "}\n",
        "\n",
        "middle_pose = [0, 0, 0, 0, 0, 0]# here is the safe postion for robot between picking and placing\n",
        "safe_pose = [1, 1, 1, 1 ,1 ,1 ]# safe position so other robot can work"
      ]
    },
    {
      "cell_type": "code",
      "execution_count": null,
      "metadata": {},
      "outputs": [],
      "source": [
        "####################\n",
        "# Helper Functions #\n",
        "####################\n",
        "def check_win(board, player):  # checks for a win\n",
        "    win_conditions = [\n",
        "        # Check rows\n",
        "        [board[0][0], board[0][1], board[0][2]],\n",
        "        [board[1][0], board[1][1], board[1][2]],\n",
        "        [board[2][0], board[2][1], board[2][2]],\n",
        "        # Check columns\n",
        "        [board[0][0], board[1][0], board[2][0]],\n",
        "        [board[0][1], board[1][1], board[2][1]],\n",
        "        [board[0][2], board[1][2], board[2][2]],\n",
        "        # Check diagonals\n",
        "        [board[0][0], board[1][1], board[2][2]],\n",
        "        [board[2][0], board[1][1], board[0][2]]\n",
        "    ]\n",
        "    return [player, player, player] in win_conditions # checks if a win condition is met\n",
        "\n",
        "\n",
        "def chip_postion(board):  # finds an open position on the board\n",
        "    # remaining positions\n",
        "    remaining_position = [[i, j] for i in range(3) for j in range(3) if matrix[i][j] is None]\n",
        "    \n",
        "    # reshuffle to make it random\n",
        "    random.shuffle(remaining_position)\n",
        "\n",
        "    # return the first element\n",
        "    return remaining_position[0]"
      ]
    },
    {
      "cell_type": "code",
      "execution_count": null,
      "metadata": {},
      "outputs": [],
      "source": [
        "robot = Dorna() # create the Dorna object\n",
        "\n",
        "# tic-tac-toe board matrix\n",
        "board = [[None, None, None],\n",
        "         [None, None, None],\n",
        "         [None, None, None]]\n",
        "\n",
        "# setting the placement positions on the board to corresponding to pin values\n",
        "# (row, col): (pin 0, pin 1, pin 2, pin 3)\n",
        "position_to_pins = {\n",
        "    (0, 0): [0, 0, 0, 0],  # Top-left\n",
        "    (0, 1): [0, 0, 0, 1],  # Top-middle\n",
        "    (0, 2): [0, 0, 1, 0],  # Top-right\n",
        "    (1, 0): [0, 1, 0, 0],  # Middle-left\n",
        "    (1, 1): [0, 1, 0, 1],  # Center\n",
        "    (1, 2): [0, 1, 1, 0],  # Middle-right\n",
        "    (2, 0): [1, 0, 0, 0],  # Bottom-left\n",
        "    (2, 1): [1, 0, 0, 1],  # Bottom-middle\n",
        "    (2, 2): [1, 0, 1, 0]   # Bottom-right\n",
        "}"
      ]
    },
    {
      "cell_type": "code",
      "execution_count": null,
      "metadata": {
        "id": "UpS6wirOHxaw"
      },
      "outputs": [],
      "source": [
        "robot.connect(robot_ip_address)  # connect to robot\n",
        "robot.set_motor(1)  # turn on the robot motors\n",
        "robot.jmove(safe_pose)  #set safe initial position\n",
        "robot.set_output(tcp_output[0], tcp_output[1]) # set output, (pin, state)\n",
        "robot.set_output(playing_flag[0], playing_flag[1]) # set output "
      ]
    },
    {
      "cell_type": "code",
      "execution_count": null,
      "metadata": {
        "id": "PymfCbaWPIHX"
      },
      "outputs": [],
      "source": [
        "# game loop #\n",
        "pick_index = 0  # start with the first grab position\n",
        "\n",
        "for move_number in range(9):  # max 9 moves in a Tic Tac Toe game\n",
        "\n",
        "    robot.wait(**{\"in\"+str(playing_flag[0]): playing_flag[1]}) # make sure that the other robot is not playing\n",
        "\n",
        "    robot.set_output(playing_flag[0], playing_flag[2]) # signal that this robot is making a move\n",
        "\n",
        "    row, col = chip_postion(board) # randomly select a random open position on the board\n",
        "\n",
        "    flag = position_to_pins[(row, col)] # get corresponding pins\n",
        "\n",
        "    board[row][col] = \"X\" if move_number % 2 == 0 else \"O\"  # update board matrix\n",
        "\n",
        "    # executes the robots motion\n",
        "    robot.pick_n_place(\n",
        "        pick_pose=chip_pick_position[pick_index], # pose from which the robot pick the chip\n",
        "        middle_pose=middle_pose, # pose between pick and place\n",
        "        place_pose=chip_place_position[row, col], # pose where the robot places the chip\n",
        "        end_pose=safe_pose, # clear pose move to after placing the chip\n",
        "        tcp=tcp_frame, # tool length and position (tool center point)\n",
        "        speed=speed # speed of movement\n",
        "        output=tcp_output\n",
        "    )\n",
        "    \n",
        "    set_pins(PIN_MOVE_POSITIONS, move_position_pins) # set the move position using io pins\n",
        "\n",
        "    set_pins([PIN_MOVE_IN_PROGRESS], [0]) # signal move completion\n",
        "\n",
        "\n",
        "    robot.sleep(SLEEP_PERIOD) #  sleep to allow the other robot to read the move\n",
        "\n",
        "    ########################\n",
        "    # update the grab position index\n",
        "    pick_index += 1\n",
        "\n",
        "    # check for a win condition\n",
        "    if check_win(board, player):\n",
        "        print(f\"Player {player} wins!\")\n",
        "        # move to safe position and exit loop\n",
        "        robot.jmove(safe_pose)\n",
        "        break # exit loop if the player wins\n",
        "else:\n",
        "        # no open position found, end the game\n",
        "        print(\"It's a draw!\")\n",
        "        robot.jmove(safe_pose)  # move to safe position\n",
        "        break # exit loop if there is a draw\n",
        "\n",
        "    # signal that this robot has completed the move\n",
        "    set_pins([PIN_MOVE_IN_PROGRESS], [0])\n",
        "\n",
        "    # wait for the other robot's turn to complete\n",
        "    while read_pins([PIN_MOVE_IN_PROGRESS])[0] == 1:\n",
        "        robot.sleep(SLEEP_PERIOD)  # waiting interval\n",
        "\n",
        "# Close connection\n",
        "robot.close()"
      ]
    }
  ],
  "metadata": {
    "colab": {
      "provenance": []
    },
    "kernelspec": {
      "display_name": "Python 3",
      "name": "python3"
    },
    "language_info": {
      "codemirror_mode": {
        "name": "ipython",
        "version": 3
      },
      "file_extension": ".py",
      "mimetype": "text/x-python",
      "name": "python",
      "nbconvert_exporter": "python",
      "pygments_lexer": "ipython3",
      "version": "3.9.7"
    }
  },
  "nbformat": 4,
  "nbformat_minor": 0
}
