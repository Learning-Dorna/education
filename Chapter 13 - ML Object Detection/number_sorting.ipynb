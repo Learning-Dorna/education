{
 "cells": [
  {
   "cell_type": "markdown",
   "metadata": {},
   "source": [
    "# Overview\n",
    "This notebook is designed to perform number sorting tasks using machine learning and computer vision techniques. It utilizes the Dorna robot, a camera, and object detection algorithms to sort objects based on their numbers."
   ]
  },
  {
   "cell_type": "markdown",
   "metadata": {},
   "source": [
    "## Imports and parameters"
   ]
  },
  {
   "cell_type": "code",
   "execution_count": 4,
   "metadata": {
    "colab": {
     "base_uri": "https://localhost:8080/",
     "height": 211
    },
    "id": "xdvza51b3FSX",
    "outputId": "16af48a6-9920-42af-b26f-10cdae4a6d3f"
   },
   "outputs": [],
   "source": [
    "\"\"\"\n",
    "import necessary modules\n",
    "\"\"\"\n",
    "from dorna2 import Dorna\n",
    "from camera import Camera\n",
    "from dorna_vision import Detection\n",
    "import time\n",
    "\n",
    "\"\"\"\n",
    "parameters\n",
    "\"\"\"\n",
    "robot_ip_address = \"192.168.254.87\" # robot ip address\n",
    "output_config = [0, 0, 1] # output in order (pin, off state, on state)\n",
    "tcp = [0, 0, 44, 0, 0, 0] # tool length and position\n",
    "\n",
    "place_positions = {\n",
    "    \"1\": [156, 100, 10, 180, 0, 0],  # Position for placing chip 1\n",
    "    \"2\": [156, 50, 10, 180, 0, 0],  # Position for placing chip 2\n",
    "    \"3\": [156, 0, 10, 180, 0, 0],  # Position for placing chip 3\n",
    "    \"4\": [156, -50, 10, 180, 0, 0],  # Position for placing chip 4\n",
    "    \"5\": [156, -100, 10, 180, 0, 0],  # Position for placing chip 5\n",
    "}\n",
    "imaging_joint = [-12.392578, 45.219727, -132.319336, -13.31543, -6.196289, 0] # this is the place where we take a picture\n",
    "speed = 0.5 # here set the speed of the robot\n",
    "above = 20\n",
    "sim=0\n",
    "\n",
    "# detection parameters\n",
    "detection_parameters = {'detection': {'cmd': 'od', 'path': 'Assets/game_chips.pkl', 'conf': 0.5, 'cls': []}, 'limit': {'area': [], 'aspect_ratio': [], 'xyz': [[180, 356], [-121, 121], [0, 20]], 'inv': 0}}\n"
   ]
  },
  {
   "cell_type": "markdown",
   "metadata": {},
   "source": [
    "## Main loop"
   ]
  },
  {
   "cell_type": "code",
   "execution_count": 5,
   "metadata": {
    "id": "04f7CW9X67wV"
   },
   "outputs": [],
   "source": [
    "\"\"\"\n",
    "initialize the robot, camera, and object detection\n",
    "\"\"\"\n",
    "robot = Dorna() # initialize robot\n",
    "robot.connect(robot_ip_address) # connect to robot\n",
    "\n",
    "camera = Camera() # initialize camera\n",
    "camera.connect() # connect to camera\n",
    "\n",
    "object_detection = Detection(camera=camera, robot=robot, **detection_parameters) # initialize the object detection\n",
    "\n",
    "\"\"\"\n",
    "set up the robot\n",
    "\"\"\"\n",
    "robot.set_output(output_config[0], output_config[1]) # set output\n",
    "robot.set_motor(1) # turn on the robot motors\n",
    "robot.sleep(1) # sleep to allow the robot to settle before moving\n",
    "robot.jmove(imaging_joint)  #set safe initial position\n",
    "\n",
    "\"\"\"\n",
    "run the object detection and pick and place\n",
    "\"\"\"\n",
    "for i in range(10):  # range is set to 5 because we have 5 chips\n",
    "    # always run this to make sure that the rbot is stationary before running the object detection\n",
    "    time.sleep(0.1)\n",
    "\n",
    "    # run the object detection\n",
    "    result = object_detection.run()\n",
    "\n",
    "    if result: # if there is an object detected\n",
    "\n",
    "        pick_position = result[0][\"xyz\"] + [180, 0, 0] # get the pick position from the detection result\n",
    "        object_class = result[0][\"cls\"] # get the class of the detected chip\n",
    "        place_position = place_positions[object_class] # find the place position based on the chip's number\n",
    "\n",
    "        # this executes the pick-and-place operation\n",
    "        retval = robot.pick_n_place(\n",
    "            pick_pose=pick_position, # pick position we got from detection\n",
    "            place_pose=place_position, # place poistion which we got from the class\n",
    "            end_joint=imaging_joint, # end position which we will call the imaging postion because after ending  we want to scan again\n",
    "            tcp=tcp, # tcp is the tool length and postion which we deffined in the cfg cell\n",
    "            speed=speed, # speed which we also defined in the cfg cell\n",
    "            output_config = output_config, # output in order (pin, off state, on state)\n",
    "            above=above,\n",
    "            sim=sim,\n",
    "            )\n",
    "\n",
    "\"\"\"\n",
    "it is necessary to close the robot, camera, and object detection\n",
    "\"\"\"\n",
    "robot.close() # close robot\n",
    "camera.close() # close camera\n",
    "object_detection.close() # close object detection"
   ]
  }
 ],
 "metadata": {
  "colab": {
   "provenance": []
  },
  "kernelspec": {
   "display_name": "Python 3 (ipykernel)",
   "language": "python",
   "name": "python3"
  },
  "language_info": {
   "codemirror_mode": {
    "name": "ipython",
    "version": 3
   },
   "file_extension": ".py",
   "mimetype": "text/x-python",
   "name": "python",
   "nbconvert_exporter": "python",
   "pygments_lexer": "ipython3",
   "version": "3.9.0"
  }
 },
 "nbformat": 4,
 "nbformat_minor": 4
}
